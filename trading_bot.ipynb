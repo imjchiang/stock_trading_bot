{
 "cells": [
  {
   "cell_type": "code",
   "execution_count": 35,
   "metadata": {},
   "outputs": [],
   "source": [
    "from selenium import webdriver"
   ]
  },
  {
   "cell_type": "code",
   "execution_count": 36,
   "metadata": {},
   "outputs": [],
   "source": [
    "import datetime, re, requests, io, time, random, string"
   ]
  },
  {
   "cell_type": "code",
   "execution_count": 37,
   "metadata": {},
   "outputs": [],
   "source": [
    "from bs4 import BeautifulSoup"
   ]
  },
  {
   "cell_type": "code",
   "execution_count": 38,
   "metadata": {},
   "outputs": [],
   "source": [
    "from credentials import email, password"
   ]
  },
  {
   "cell_type": "code",
   "execution_count": 45,
   "metadata": {},
   "outputs": [],
   "source": [
    "driver = webdriver.Chrome(\"/Users/Josh/Desktop/chromedriver_win32/chromedriver.exe\")"
   ]
  },
  {
   "cell_type": "code",
   "execution_count": 46,
   "metadata": {},
   "outputs": [],
   "source": [
    "# go to wallmine.com\n",
    "driver.get(\"https://wallmine.com\")"
   ]
  },
  {
   "cell_type": "code",
   "execution_count": 47,
   "metadata": {},
   "outputs": [
    {
     "name": "stdout",
     "output_type": "stream",
     "text": [
      "on home page\n",
      "Sign in\n",
      "Going to sign in page\n"
     ]
    }
   ],
   "source": [
    "# make sure you are on the right page\n",
    "# home page has this text\n",
    "if \"Make Smarter Investments\" in driver.page_source:\n",
    "    print(\"on home page\")\n",
    "    \n",
    "    sign_in_link = driver.find_element_by_xpath(\"/html/body/main/header/div/ul/li[1]/ul/li[3]/a\")\n",
    "    print(sign_in_link.text)\n",
    "    sign_in_link.click()\n",
    "    \n",
    "    time.sleep(3)\n",
    "    print(\"Going to sign in page\")"
   ]
  },
  {
   "cell_type": "code",
   "execution_count": 48,
   "metadata": {},
   "outputs": [
    {
     "name": "stdout",
     "output_type": "stream",
     "text": [
      "on sign in page\n"
     ]
    }
   ],
   "source": [
    "if \"Sign in here, please.\" in driver.page_source:\n",
    "    print(\"on sign in page\")\n",
    "    \n",
    "    login_email = driver.find_element_by_xpath(\"/html/body/div[2]/div/div[2]/form/div[2]/input\")\n",
    "    \n",
    "    sign_in_password = driver.find_element_by_xpath(\"/html/body/div[2]/div/div[2]/form/div[5]/div[1]/div[2]\")\n",
    "    sign_in_password.click()\n",
    "    time.sleep(0.2)\n",
    "    "
   ]
  },
  {
   "cell_type": "code",
   "execution_count": 49,
   "metadata": {},
   "outputs": [],
   "source": [
    "login_password = driver.find_element_by_xpath(\"/html/body/div[2]/div/div[2]/form/div[3]/input\")\n",
    "sign_in_button = driver.find_element_by_xpath(\"/html/body/div[2]/div/div[2]/form/div[5]/div[2]/div[1]/button\")"
   ]
  },
  {
   "cell_type": "code",
   "execution_count": 50,
   "metadata": {},
   "outputs": [],
   "source": [
    "login_email.send_keys(email)\n",
    "login_password.send_keys(password)\n",
    "sign_in_button.click()\n",
    "time.sleep(3)"
   ]
  },
  {
   "cell_type": "code",
   "execution_count": 53,
   "metadata": {},
   "outputs": [
    {
     "name": "stdout",
     "output_type": "stream",
     "text": [
      "On main page\n"
     ]
    }
   ],
   "source": [
    "if \"Stock market overview\" in driver.page_source:\n",
    "    print(\"On main page\")\n",
    "    heatmap = driver.find_element_by_xpath(\"/html/body/main/section/div[3]/div[1]/div[2]/div/div[2]/div/a/div[2]\")\n",
    "    heatmap.click()\n",
    "    time.sleep(3)"
   ]
  },
  {
   "cell_type": "code",
   "execution_count": 54,
   "metadata": {},
   "outputs": [],
   "source": [
    "overview_tab = driver.find_element_by_xpath(\"/html/body/main/section/div[5]/div/div/div[1]/div/ul/li[1]/a\")\n",
    "overview_tab.click()\n",
    "time.sleep(3)"
   ]
  },
  {
   "cell_type": "code",
   "execution_count": null,
   "metadata": {},
   "outputs": [],
   "source": []
  }
 ],
 "metadata": {
  "kernelspec": {
   "display_name": "Python 3",
   "language": "python",
   "name": "python3"
  },
  "language_info": {
   "codemirror_mode": {
    "name": "ipython",
    "version": 3
   },
   "file_extension": ".py",
   "mimetype": "text/x-python",
   "name": "python",
   "nbconvert_exporter": "python",
   "pygments_lexer": "ipython3",
   "version": "3.8.5"
  }
 },
 "nbformat": 4,
 "nbformat_minor": 4
}
