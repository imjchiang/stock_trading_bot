{
 "cells": [
  {
   "cell_type": "code",
   "execution_count": 11,
   "metadata": {},
   "outputs": [],
   "source": [
    "from selenium import webdriver"
   ]
  },
  {
   "cell_type": "code",
   "execution_count": 12,
   "metadata": {},
   "outputs": [],
   "source": [
    "import datetime, re, requests, io, time, random, string"
   ]
  },
  {
   "cell_type": "code",
   "execution_count": 13,
   "metadata": {},
   "outputs": [],
   "source": [
    "from bs4 import BeautifulSoup"
   ]
  },
  {
   "cell_type": "code",
   "execution_count": 20,
   "metadata": {},
   "outputs": [],
   "source": [
    "driver = webdriver.Chrome(\"/Users/Josh/Desktop/chromedriver_win32/chromedriver.exe\")"
   ]
  },
  {
   "cell_type": "code",
   "execution_count": 21,
   "metadata": {},
   "outputs": [],
   "source": [
    "# go to wallmine.com\n",
    "driver.get(\"https://wallmine.com\")"
   ]
  },
  {
   "cell_type": "code",
   "execution_count": 22,
   "metadata": {},
   "outputs": [
    {
     "name": "stdout",
     "output_type": "stream",
     "text": [
      "on home page\n",
      "Sign in\n",
      "Going to sign in page\n"
     ]
    }
   ],
   "source": [
    "# make sure you are on the right page\n",
    "# home page has this text\n",
    "if \"Make Smarter Investments\" in driver.page_source:\n",
    "    print(\"on home page\")\n",
    "    \n",
    "    sign_in_link = driver.find_element_by_xpath(\"/html/body/main/header/div/ul/li[1]/ul/li[3]/a\")\n",
    "    print(sign_in_link.text)\n",
    "    sign_in_link.click()\n",
    "    \n",
    "    time.sleep(3)\n",
    "    print(\"Going to sign in page\")"
   ]
  },
  {
   "cell_type": "code",
   "execution_count": 23,
   "metadata": {},
   "outputs": [
    {
     "name": "stdout",
     "output_type": "stream",
     "text": [
      "on sign in page\n"
     ]
    }
   ],
   "source": [
    "if \"Sign in here, please.\" in driver.page_source:\n",
    "    print(\"on sign in page\")\n",
    "    \n",
    "    email = driver.find_element_by_xpath(\"/html/body/div[2]/div/div[2]/form/div[2]/input\")\n",
    "    \n",
    "    sign_in_password = driver.find_element_by_xpath(\"/html/body/div[2]/div/div[2]/form/div[5]/div[1]/div[2]\")\n",
    "    sign_in_password.click()\n",
    "    time.sleep(0.2)\n",
    "    "
   ]
  },
  {
   "cell_type": "code",
   "execution_count": 24,
   "metadata": {},
   "outputs": [],
   "source": [
    "password = driver.find_element_by_xpath(\"/html/body/div[2]/div/div[2]/form/div[3]/input\")\n",
    "sign_in_button = driver.find_element_by_xpath(\"/html/body/div[2]/div/div[2]/form/div[5]/div[2]/div[1]/button\")"
   ]
  },
  {
   "cell_type": "code",
   "execution_count": null,
   "metadata": {},
   "outputs": [],
   "source": []
  }
 ],
 "metadata": {
  "kernelspec": {
   "display_name": "Python 3",
   "language": "python",
   "name": "python3"
  },
  "language_info": {
   "codemirror_mode": {
    "name": "ipython",
    "version": 3
   },
   "file_extension": ".py",
   "mimetype": "text/x-python",
   "name": "python",
   "nbconvert_exporter": "python",
   "pygments_lexer": "ipython3",
   "version": "3.8.5"
  }
 },
 "nbformat": 4,
 "nbformat_minor": 4
}
